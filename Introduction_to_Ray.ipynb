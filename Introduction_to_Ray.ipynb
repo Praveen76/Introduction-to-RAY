{
  "cells": [
    {
      "cell_type": "markdown",
      "metadata": {
        "id": "view-in-github",
        "colab_type": "text"
      },
      "source": [
        "<a href=\"https://colab.research.google.com/github/Praveen76/Introduction-to-RAY/blob/main/Introduction_to_Ray.ipynb\" target=\"_parent\"><img src=\"https://colab.research.google.com/assets/colab-badge.svg\" alt=\"Open In Colab\"/></a>"
      ]
    },
    {
      "cell_type": "markdown",
      "metadata": {
        "id": "imported-begin"
      },
      "source": [
        "## Learning Objectives"
      ]
    },
    {
      "cell_type": "markdown",
      "metadata": {
        "id": "solid-upset"
      },
      "source": [
        "At the end of the experiment, you will be able to:\n",
        "\n",
        "* load the data into RayDMatrix\n",
        "* train the XGBoost Ray model and save it\n",
        "* tune the Hyperparameters using Ray tune"
      ]
    },
    {
      "cell_type": "markdown",
      "metadata": {
        "id": "e8newvEJqhW0"
      },
      "source": [
        "## Introduction\n",
        "\n",
        "Compute demands for machine learning (ML) training have grown 10x every\n",
        "18 months since 2010. Over the same time period, the compute capabilities of\n",
        "AI accelerators such as GPUs and TPUs have less than doubled. This means\n",
        "that every year and a half organizations need 5x more AI accelerators/nodes\n",
        "to train the latest ML models and leverage cutting edge ML capabilities.\n",
        "Distributed computing is the only way to meet these requirements.\n",
        "\n",
        "While solutions such as AWS SageMaker and GCP Vertex AI have emerged\n",
        "to help organizations deal with scaling AI workloads, these solutions put\n",
        "significant constraints on how applications are developed and which libraries\n",
        "they can use. This makes it difficult to keep up with the latest models and\n",
        "algorithms, and freely integrate with the rapidly evolving open ML ecosystem.\n",
        "\n",
        "Ray, addresses these challenges head on by\n",
        "allowing ML engineers and developers to scale their workloads effortlessly\n",
        "from their laptops to the cloud without the need to build complex compute\n",
        "infrastructures."
      ]
    },
    {
      "cell_type": "markdown",
      "source": [
        "### <img src='https://global.discourse-cdn.com/business7/uploads/ray/original/1X/8f4dcb72f7cd34e2a332d548bd65860994bc8ff1.png' width=20px> **Ray**\n",
        "\n",
        "Ray is an open-source unified framework for scaling AI and Python applications like machine learning. It provides the compute layer for parallel processing and reduce the need of a distributed systems expert. Ray minimizes the complexity of running your distributed individual and end-to-end machine learning workflows with these components:\n",
        "\n",
        "- Scalable libraries for common machine learning tasks such as data preprocessing, distributed training, hyperparameter tuning, reinforcement learning, and model serving.\n",
        "\n",
        "- Pythonic distributed computing primitives for parallelizing and scaling Python applications.\n",
        "\n",
        "- Integrations and utilities for integrating and deploying a Ray cluster with existing tools and infrastructure such as Kubernetes, AWS, GCP, and Azure.\n",
        "<br>\n",
        "\n",
        "Some common ML workloads that individuals, organizations, and companies leverage Ray to build their AI applications include:\n",
        "\n",
        "- Batch inference on CPUs and GPUs\n",
        "- Parallel training\n",
        "- Model serving\n",
        "- Distributed training of large models\n",
        "- Parallel hyperparameter tuning experiments\n",
        "- Reinforcement learning\n",
        "- ML platform\n"
      ],
      "metadata": {
        "id": "5LOtZlckE1vW"
      }
    },
    {
      "cell_type": "markdown",
      "source": [
        "### **Ray framework**\n",
        "\n",
        "<center>\n",
        "<img src=\"https://datascienceimages.s3.eu-north-1.amazonaws.com/MLOps/Introduction_to_Ray/Ray_framework.png\" width=500px></center>\n",
        "<br><br>\n",
        "\n",
        "Ray's unified compute framework consists of three layers:\n",
        "\n",
        "- ***Ray AI Libraries:*** An open-source, Python, domain-specific set of libraries that equip ML engineers, data scientists, and researchers with a scalable and unified toolkit for ML applications.\n",
        "\n",
        "- ***Ray Core:*** An open-source, Python, general purpose, distributed computing library that enables ML engineers and Python developers to scale Python applications and accelerate machine learning workloads.\n",
        "\n",
        "- ***Ray Clusters:*** A set of worker nodes connected to a common Ray head node. Ray clusters can be fixed-size, or they can autoscale up and down according to the resources requested by applications running on the cluster.\n",
        "\n",
        "<br>\n",
        "\n",
        "Each of Ray's five native libraries distributes a specific ML task:\n",
        "\n",
        "- **`Data`**: Scalable, framework-agnostic data loading and transformation across training, tuning, and prediction\n",
        "\n",
        "- **`Train`**: Distributed multi-node and multi-core model training with fault tolerance that integrates with popular training libraries\n",
        "\n",
        "- **`Tune`**: Scalable hyperparameter tuning to optimize model performance\n",
        "\n",
        "- **`Serve`**: Scalable and programmable serving to deploy models for online inference, with optional microbatching to improve performance\n",
        "\n",
        "- **`RLlib`**: Scalable distributed reinforcement learning workloads\n"
      ],
      "metadata": {
        "id": "HfJAEecJHefq"
      }
    },
    {
      "cell_type": "markdown",
      "metadata": {
        "id": "yOno0OCY5KSD"
      },
      "source": [
        "Find the official Ray website [here](https://www.ray.io/), and its documentation [here](https://docs.ray.io/en/latest/ray-overview/index.html)."
      ]
    },
    {
      "cell_type": "markdown",
      "metadata": {
        "id": "b8ZyR1qqtr6_"
      },
      "source": [
        "### Setup Steps:"
      ]
    },
    {
      "cell_type": "markdown",
      "metadata": {
        "id": "zmE9xB1w4K8M"
      },
      "source": [
        "### Install necessary packages"
      ]
    },
    {
      "cell_type": "code",
      "execution_count": null,
      "metadata": {
        "id": "EXbmHKD_JBsx",
        "outputId": "e0952b63-4b05-413a-dc79-238c45d0e516",
        "colab": {
          "base_uri": "https://localhost:8080/"
        }
      },
      "outputs": [
        {
          "output_type": "stream",
          "name": "stdout",
          "text": [
            "\u001b[2K     \u001b[90m━━━━━━━━━━━━━━━━━━━━━━━━━━━━━━━━━━━━━━━━\u001b[0m \u001b[32m65.9/65.9 MB\u001b[0m \u001b[31m7.2 MB/s\u001b[0m eta \u001b[36m0:00:00\u001b[0m\n",
            "\u001b[2K     \u001b[90m━━━━━━━━━━━━━━━━━━━━━━━━━━━━━━━━━━━━━━━━\u001b[0m \u001b[32m101.7/101.7 kB\u001b[0m \u001b[31m3.4 MB/s\u001b[0m eta \u001b[36m0:00:00\u001b[0m\n",
            "\u001b[2K     \u001b[90m━━━━━━━━━━━━━━━━━━━━━━━━━━━━━━━━━━━━━━━━\u001b[0m \u001b[32m138.4/138.4 kB\u001b[0m \u001b[31m2.7 MB/s\u001b[0m eta \u001b[36m0:00:00\u001b[0m\n",
            "\u001b[?25h"
          ]
        }
      ],
      "source": [
        "!pip -q install ray\n",
        "!pip -q install ray[tune]\n",
        "!pip -q install xgboost_ray"
      ]
    },
    {
      "cell_type": "markdown",
      "metadata": {
        "id": "b3600ee25c8e"
      },
      "source": [
        "### Import necessary libraries"
      ]
    },
    {
      "cell_type": "code",
      "execution_count": null,
      "metadata": {
        "id": "LMFdp-Bw4leX"
      },
      "outputs": [],
      "source": [
        "from sklearn.datasets import load_breast_cancer\n",
        "from sklearn.model_selection import train_test_split\n",
        "\n",
        "import xgboost as xgb\n",
        "from xgboost_ray import RayDMatrix, RayParams, train, predict\n",
        "\n",
        "from ray import tune\n",
        "from ray import train as raytrain"
      ]
    },
    {
      "cell_type": "markdown",
      "metadata": {
        "id": "fRY_jIUFZtt7"
      },
      "source": [
        "### Load the data"
      ]
    },
    {
      "cell_type": "code",
      "source": [
        "train_x, train_y = load_breast_cancer(return_X_y=True)\n",
        "train_x.shape, train_y.shape"
      ],
      "metadata": {
        "id": "AsZa7JUJbSFg",
        "outputId": "206612dc-5929-4606-f151-b7e38b806e3e",
        "colab": {
          "base_uri": "https://localhost:8080/"
        }
      },
      "execution_count": null,
      "outputs": [
        {
          "output_type": "execute_result",
          "data": {
            "text/plain": [
              "((569, 30), (569,))"
            ]
          },
          "metadata": {},
          "execution_count": 3
        }
      ]
    },
    {
      "cell_type": "code",
      "source": [
        "train_x"
      ],
      "metadata": {
        "id": "hWRH1L0YbIjF",
        "outputId": "2f77e42c-784d-43ee-bfc5-0a76a67b771a",
        "colab": {
          "base_uri": "https://localhost:8080/"
        }
      },
      "execution_count": null,
      "outputs": [
        {
          "output_type": "execute_result",
          "data": {
            "text/plain": [
              "array([[1.799e+01, 1.038e+01, 1.228e+02, ..., 2.654e-01, 4.601e-01,\n",
              "        1.189e-01],\n",
              "       [2.057e+01, 1.777e+01, 1.329e+02, ..., 1.860e-01, 2.750e-01,\n",
              "        8.902e-02],\n",
              "       [1.969e+01, 2.125e+01, 1.300e+02, ..., 2.430e-01, 3.613e-01,\n",
              "        8.758e-02],\n",
              "       ...,\n",
              "       [1.660e+01, 2.808e+01, 1.083e+02, ..., 1.418e-01, 2.218e-01,\n",
              "        7.820e-02],\n",
              "       [2.060e+01, 2.933e+01, 1.401e+02, ..., 2.650e-01, 4.087e-01,\n",
              "        1.240e-01],\n",
              "       [7.760e+00, 2.454e+01, 4.792e+01, ..., 0.000e+00, 2.871e-01,\n",
              "        7.039e-02]])"
            ]
          },
          "metadata": {},
          "execution_count": 4
        }
      ]
    },
    {
      "cell_type": "code",
      "source": [
        "train_y"
      ],
      "metadata": {
        "id": "ctbE_KGJbP7E",
        "outputId": "22488493-87d2-4cf2-df28-dfc87a76eaac",
        "colab": {
          "base_uri": "https://localhost:8080/"
        }
      },
      "execution_count": null,
      "outputs": [
        {
          "output_type": "execute_result",
          "data": {
            "text/plain": [
              "array([0, 0, 0, 0, 0, 0, 0, 0, 0, 0, 0, 0, 0, 0, 0, 0, 0, 0, 0, 1, 1, 1,\n",
              "       0, 0, 0, 0, 0, 0, 0, 0, 0, 0, 0, 0, 0, 0, 0, 1, 0, 0, 0, 0, 0, 0,\n",
              "       0, 0, 1, 0, 1, 1, 1, 1, 1, 0, 0, 1, 0, 0, 1, 1, 1, 1, 0, 1, 0, 0,\n",
              "       1, 1, 1, 1, 0, 1, 0, 0, 1, 0, 1, 0, 0, 1, 1, 1, 0, 0, 1, 0, 0, 0,\n",
              "       1, 1, 1, 0, 1, 1, 0, 0, 1, 1, 1, 0, 0, 1, 1, 1, 1, 0, 1, 1, 0, 1,\n",
              "       1, 1, 1, 1, 1, 1, 1, 0, 0, 0, 1, 0, 0, 1, 1, 1, 0, 0, 1, 0, 1, 0,\n",
              "       0, 1, 0, 0, 1, 1, 0, 1, 1, 0, 1, 1, 1, 1, 0, 1, 1, 1, 1, 1, 1, 1,\n",
              "       1, 1, 0, 1, 1, 1, 1, 0, 0, 1, 0, 1, 1, 0, 0, 1, 1, 0, 0, 1, 1, 1,\n",
              "       1, 0, 1, 1, 0, 0, 0, 1, 0, 1, 0, 1, 1, 1, 0, 1, 1, 0, 0, 1, 0, 0,\n",
              "       0, 0, 1, 0, 0, 0, 1, 0, 1, 0, 1, 1, 0, 1, 0, 0, 0, 0, 1, 1, 0, 0,\n",
              "       1, 1, 1, 0, 1, 1, 1, 1, 1, 0, 0, 1, 1, 0, 1, 1, 0, 0, 1, 0, 1, 1,\n",
              "       1, 1, 0, 1, 1, 1, 1, 1, 0, 1, 0, 0, 0, 0, 0, 0, 0, 0, 0, 0, 0, 0,\n",
              "       0, 0, 1, 1, 1, 1, 1, 1, 0, 1, 0, 1, 1, 0, 1, 1, 0, 1, 0, 0, 1, 1,\n",
              "       1, 1, 1, 1, 1, 1, 1, 1, 1, 1, 1, 0, 1, 1, 0, 1, 0, 1, 1, 1, 1, 1,\n",
              "       1, 1, 1, 1, 1, 1, 1, 1, 1, 0, 1, 1, 1, 0, 1, 0, 1, 1, 1, 1, 0, 0,\n",
              "       0, 1, 1, 1, 1, 0, 1, 0, 1, 0, 1, 1, 1, 0, 1, 1, 1, 1, 1, 1, 1, 0,\n",
              "       0, 0, 1, 1, 1, 1, 1, 1, 1, 1, 1, 1, 1, 0, 0, 1, 0, 0, 0, 1, 0, 0,\n",
              "       1, 1, 1, 1, 1, 0, 1, 1, 1, 1, 1, 0, 1, 1, 1, 0, 1, 1, 0, 0, 1, 1,\n",
              "       1, 1, 1, 1, 0, 1, 1, 1, 1, 1, 1, 1, 0, 1, 1, 1, 1, 1, 0, 1, 1, 0,\n",
              "       1, 1, 1, 1, 1, 1, 1, 1, 1, 1, 1, 1, 0, 1, 0, 0, 1, 0, 1, 1, 1, 1,\n",
              "       1, 0, 1, 1, 0, 1, 0, 1, 1, 0, 1, 0, 1, 1, 1, 1, 1, 1, 1, 1, 0, 0,\n",
              "       1, 1, 1, 1, 1, 1, 0, 1, 1, 1, 1, 1, 1, 1, 1, 1, 1, 0, 1, 1, 1, 1,\n",
              "       1, 1, 1, 0, 1, 0, 1, 1, 0, 1, 1, 1, 1, 1, 0, 0, 1, 0, 1, 0, 1, 1,\n",
              "       1, 1, 1, 0, 1, 1, 0, 1, 0, 1, 0, 0, 1, 1, 1, 0, 1, 1, 1, 1, 1, 1,\n",
              "       1, 1, 1, 1, 1, 0, 1, 0, 0, 1, 1, 1, 1, 1, 1, 1, 1, 1, 1, 1, 1, 1,\n",
              "       1, 1, 1, 1, 1, 1, 1, 1, 1, 1, 1, 1, 0, 0, 0, 0, 0, 0, 1])"
            ]
          },
          "metadata": {},
          "execution_count": 5
        }
      ]
    },
    {
      "cell_type": "markdown",
      "metadata": {
        "id": "EuMogwjLuj5-"
      },
      "source": [
        "### XGBoost-Ray uses the same API as core XGBoost\n",
        "\n",
        "There are only two differences:\n",
        "\n",
        "* Instead of using a `xgboost.DMatrix`, it uses `xgboost_ray.RayDMatrix` object\n",
        "\n",
        "* There is an additional `ray_params` parameter that is used to configure distributed training (it takes a `RayParams` object)"
      ]
    },
    {
      "cell_type": "markdown",
      "source": [
        "**Data loading**\n",
        "\n",
        "Data is passed to XGBoost-Ray via a `RayDMatrix` object.\n",
        "\n",
        "The `RayDMatrix` lazy loads data and stores it sharded in the Ray object store. The Ray XGBoost actors then access these shards to run their training on.\n",
        "\n",
        "A `RayDMatrix` support various data and file types, like Pandas DataFrames, Numpy Arrays, CSV files and Parquet files."
      ],
      "metadata": {
        "id": "2RBrYsE3a-HM"
      }
    },
    {
      "cell_type": "code",
      "execution_count": null,
      "metadata": {
        "id": "kaoyQ7TburU0"
      },
      "outputs": [],
      "source": [
        "train_set = RayDMatrix(train_x, train_y)"
      ]
    },
    {
      "cell_type": "code",
      "source": [
        "ray_params = RayParams(num_actors = 2,               # Number of remote actors\n",
        "                       cpus_per_actor = 1\n",
        "                       )"
      ],
      "metadata": {
        "id": "fJ8q7pnAsJdG"
      },
      "execution_count": null,
      "outputs": []
    },
    {
      "cell_type": "markdown",
      "metadata": {
        "id": "E4WIhjlj2oT_"
      },
      "source": [
        "### Train the XGBoost Ray model and save it"
      ]
    },
    {
      "cell_type": "code",
      "execution_count": null,
      "metadata": {
        "id": "06u-IMu1I0c_",
        "outputId": "97784775-b5ac-4c31-ada9-4cad31f5d563",
        "colab": {
          "base_uri": "https://localhost:8080/"
        }
      },
      "outputs": [
        {
          "output_type": "stream",
          "name": "stderr",
          "text": [
            "2024-06-17 18:43:19,279\tINFO worker.py:1753 -- Started a local Ray instance.\n",
            "2024-06-17 18:43:26,148\tINFO main.py:1140 -- [RayXGBoost] Created 2 new actors (2 total actors). Waiting until actors are ready for training.\n",
            "2024-06-17 18:43:43,459\tINFO main.py:1191 -- [RayXGBoost] Starting XGBoost training.\n",
            "\u001b[36m(_RemoteRayXGBoostActor pid=886)\u001b[0m [18:43:43] task [xgboost.ray]:136456321431104 got new rank 0\n",
            "2024-06-17 18:43:46,942\tINFO main.py:1708 -- [RayXGBoost] Finished XGBoost training on training data with total N=569 in 24.00 seconds (3.47 pure XGBoost training time).\n",
            "/usr/local/lib/python3.10/dist-packages/xgboost/core.py:160: UserWarning: [18:43:47] WARNING: /workspace/src/c_api/c_api.cc:1240: Saving into deprecated binary model format, please consider using `json` or `ubj`. Model format will default to JSON in XGBoost 2.2 if not specified.\n",
            "  warnings.warn(smsg, UserWarning)\n"
          ]
        }
      ],
      "source": [
        "evals_result = {}\n",
        "bst = train(\n",
        "    params={\n",
        "        \"objective\": \"binary:logistic\",                # tells XGBoost that we aim to train a logistic regression model for a binary classification task\n",
        "        \"eval_metric\": [\"logloss\", \"error\"],\n",
        "    },\n",
        "    dtrain=train_set,\n",
        "    evals_result=evals_result,\n",
        "    evals=[(train_set, \"train\")],\n",
        "    verbose_eval=False,\n",
        "    ray_params=ray_params)\n",
        "\n",
        "bst.save_model(\"model.xgb\")"
      ]
    },
    {
      "cell_type": "markdown",
      "metadata": {
        "id": "x_brYTFg2tZs"
      },
      "source": [
        "### Final training error"
      ]
    },
    {
      "cell_type": "code",
      "execution_count": null,
      "metadata": {
        "id": "s5dTgkUZ2Zcn",
        "outputId": "17391faf-0777-4e2b-fbd5-fb1dbf5aaec9",
        "colab": {
          "base_uri": "https://localhost:8080/"
        }
      },
      "outputs": [
        {
          "output_type": "stream",
          "name": "stdout",
          "text": [
            "Final training error: 0.0053\n",
            "Final training accuracy: 0.9947\n"
          ]
        }
      ],
      "source": [
        "print(\"Final training error: {:.4f}\".format(evals_result[\"train\"][\"error\"][-1]))\n",
        "print(\"Final training accuracy: {:.4f}\".format(1 - evals_result[\"train\"][\"error\"][-1]))"
      ]
    },
    {
      "cell_type": "markdown",
      "metadata": {
        "id": "c01Q3syvz66n"
      },
      "source": [
        "### Prediction\n",
        "\n",
        "Here, we will create an object of regular non-distributed API instance i.e. `xgboost.Booster`, and pass the saved XGBoost-Ray model."
      ]
    },
    {
      "cell_type": "code",
      "execution_count": null,
      "metadata": {
        "id": "WkJFmGsZJKCu",
        "outputId": "afbee89e-e041-4baa-d152-ca98bf6405cf",
        "colab": {
          "base_uri": "https://localhost:8080/"
        }
      },
      "outputs": [
        {
          "output_type": "stream",
          "name": "stderr",
          "text": [
            "2024-06-17 18:43:47,244\tINFO main.py:1758 -- [RayXGBoost] Created 2 remote actors.\n",
            "2024-06-17 18:43:53,807\tINFO main.py:1775 -- [RayXGBoost] Starting XGBoost prediction.\n"
          ]
        },
        {
          "output_type": "stream",
          "name": "stdout",
          "text": [
            "[0.09144595 0.05673993 0.03008196 0.10851309 0.09144595 0.1226117\n",
            " 0.03008196 0.03145875 0.03795947 0.09715987 0.11452682 0.03008196\n",
            " 0.03008196 0.04623247 0.06943818 0.03008196 0.03738927 0.03008196\n",
            " 0.03008196 0.97716796 0.98008084 0.98008084 0.0675434  0.03008196\n",
            " 0.03008196 0.03620729 0.03974995 0.03008196 0.03008196 0.09527509\n",
            " 0.03008196 0.03008196 0.03008196 0.03008196 0.03008196 0.03008196\n",
            " 0.04384386 0.95125544 0.26743954 0.05803299 0.5169782  0.30979052\n",
            " 0.03008196 0.03145875 0.11796542 0.03620729 0.98008084 0.04324226\n",
            " 0.98008084 0.93069357 0.9776062  0.9790822  0.9698948  0.03261407\n",
            " 0.05082424 0.9698948  0.03008196 0.03145875 0.9790822  0.9698948\n",
            " 0.9731866  0.98008084 0.03008196 0.98008084 0.03145875 0.03145875\n",
            " 0.9700466  0.9698948  0.86911684 0.9698948  0.03008196 0.98008084\n",
            " 0.03008196 0.26402172 0.98008084 0.03008196 0.9691353  0.05734929\n",
            " 0.03958243 0.98008084 0.9700466  0.8453193  0.03008196 0.03008196\n",
            " 0.98008084 0.03008196 0.14372692 0.03008196 0.9427549  0.9228417\n",
            " 0.9702525  0.07124948 0.9445487  0.98008084 0.03008196 0.03008196\n",
            " 0.9790822  0.9675369  0.98008084 0.08050055 0.09838331 0.9790822\n",
            " 0.96856123 0.98008084 0.98008084 0.08512127 0.97137254 0.972742\n",
            " 0.03958243 0.98008084 0.98008084 0.9479173  0.7828473  0.98008084\n",
            " 0.98008084 0.97867364 0.9675369  0.03008196 0.03008196 0.04051078\n",
            " 0.98008084 0.03008196 0.03958243 0.9497272  0.98008084 0.9790822\n",
            " 0.12552918 0.0443966  0.938856   0.03008196 0.98008084 0.03008196\n",
            " 0.03261407 0.8907658  0.03261407 0.75316393 0.9675369  0.98008084\n",
            " 0.03620729 0.98008084 0.9790822  0.03261407 0.98008084 0.98008084\n",
            " 0.98008084 0.98008084 0.17123257 0.9735613  0.88343364 0.96568763\n",
            " 0.9615116  0.98008084 0.88908976 0.9790822  0.98008084 0.98008084\n",
            " 0.03008196 0.7762808  0.9790822  0.9790822  0.97687393 0.09591617\n",
            " 0.03008196 0.97867364 0.03746569 0.9727122  0.9790822  0.04648066\n",
            " 0.03008196 0.9785194  0.9698948  0.08497982 0.09144595 0.9675369\n",
            " 0.972742   0.9790822  0.98008084 0.03008196 0.97083193 0.9659314\n",
            " 0.03008196 0.03008196 0.0406477  0.9675369  0.05745313 0.9790822\n",
            " 0.04648066 0.9698948  0.9698948  0.98008084 0.04982003 0.83214355\n",
            " 0.94192004 0.20133358 0.03630884 0.98008084 0.03795947 0.06313886\n",
            " 0.03746569 0.03974995 0.98008084 0.03746569 0.03008196 0.03008196\n",
            " 0.98008084 0.18040861 0.98008084 0.13932122 0.87730044 0.8942108\n",
            " 0.03008196 0.98008084 0.05734929 0.06102134 0.03397038 0.05021824\n",
            " 0.97716796 0.98008084 0.03008196 0.03746569 0.98008084 0.98008084\n",
            " 0.98008084 0.03008196 0.9698948  0.9181721  0.9790822  0.95099175\n",
            " 0.9585643  0.04812844 0.03008196 0.9445931  0.941921   0.03008196\n",
            " 0.9790822  0.9700466  0.03008196 0.04648066 0.9262527  0.03008196\n",
            " 0.98008084 0.9532987  0.97137254 0.9698111  0.03008196 0.98008084\n",
            " 0.98008084 0.9584956  0.9214521  0.98008084 0.03008196 0.9790822\n",
            " 0.03008196 0.03008196 0.03008196 0.15147597 0.03008196 0.03620729\n",
            " 0.03008196 0.03008196 0.03008196 0.15759932 0.03008196 0.20570377\n",
            " 0.03008196 0.03008196 0.98008084 0.97397125 0.98008084 0.98008084\n",
            " 0.9727122  0.9698948  0.03008196 0.9790822  0.07765272 0.94513893\n",
            " 0.9790822  0.04051078 0.972742   0.98008084 0.03008196 0.959733\n",
            " 0.03008196 0.03008196 0.98008084 0.9790822  0.97129506 0.98008084\n",
            " 0.9691353  0.98008084 0.8793113  0.8940149  0.98008084 0.98008084\n",
            " 0.9790822  0.9790822  0.98008084 0.54328084 0.95907927 0.97867364\n",
            " 0.03008196 0.98008084 0.03008196 0.9698948  0.98008084 0.97697407\n",
            " 0.9790822  0.9790822  0.9790822  0.9790822  0.9790822  0.96744657\n",
            " 0.98008084 0.98008084 0.98008084 0.95578516 0.972742   0.03008196\n",
            " 0.97716796 0.9659314  0.98008084 0.07654875 0.97716796 0.03008196\n",
            " 0.98008084 0.9698948  0.9727122  0.9790822  0.03008196 0.03857466\n",
            " 0.03620729 0.98008084 0.9790822  0.9790822  0.9790822  0.03008196\n",
            " 0.98008084 0.03008196 0.98008084 0.03008196 0.88388485 0.98008084\n",
            " 0.98008084 0.03008196 0.9698948  0.98008084 0.9790822  0.9417705\n",
            " 0.9790822  0.97445923 0.9790822  0.03008196 0.03620729 0.03008196\n",
            " 0.98008084 0.98008084 0.9405863  0.9790822  0.98008084 0.9698948\n",
            " 0.972742   0.97867364 0.98008084 0.78658056 0.98008084 0.03008196\n",
            " 0.03008196 0.98008084 0.03008196 0.03008196 0.03008196 0.95183957\n",
            " 0.042814   0.04573814 0.98008084 0.8949583  0.92380065 0.9328913\n",
            " 0.98008084 0.18859395 0.97239256 0.98008084 0.97867364 0.98008084\n",
            " 0.98008084 0.16259243 0.98008084 0.98008084 0.98008084 0.03008196\n",
            " 0.98008084 0.98008084 0.03008196 0.03008196 0.98008084 0.98008084\n",
            " 0.8268216  0.98008084 0.98008084 0.98008084 0.03008196 0.98008084\n",
            " 0.98008084 0.96568763 0.9698948  0.98008084 0.90502375 0.9752459\n",
            " 0.03008196 0.98008084 0.89953864 0.9790822  0.97867364 0.8592128\n",
            " 0.11769029 0.98008084 0.9679539  0.03008196 0.98008084 0.9776062\n",
            " 0.98008084 0.943327   0.98008084 0.97058725 0.9162061  0.9790822\n",
            " 0.98008084 0.9679539  0.9790822  0.972742   0.03630884 0.98008084\n",
            " 0.03008196 0.03008196 0.9740068  0.0448303  0.98008084 0.98008084\n",
            " 0.9790822  0.9790822  0.94352734 0.05090874 0.9659314  0.98008084\n",
            " 0.05673993 0.9585643  0.03008196 0.9640666  0.9566246  0.03008196\n",
            " 0.97867364 0.03008196 0.95723265 0.9650936  0.9790822  0.94805354\n",
            " 0.9445931  0.9137997  0.9758236  0.95723265 0.03008196 0.03008196\n",
            " 0.9634344  0.98008084 0.98008084 0.9696536  0.97129506 0.98008084\n",
            " 0.03008196 0.924279   0.98008084 0.9234544  0.9253166  0.95514125\n",
            " 0.98008084 0.98008084 0.93002355 0.98008084 0.98008084 0.03620729\n",
            " 0.98008084 0.9640666  0.97239256 0.948528   0.8398718  0.97716796\n",
            " 0.95925575 0.03008196 0.98008084 0.11238775 0.9679539  0.86381257\n",
            " 0.03008196 0.9790822  0.98008084 0.9241328  0.9644855  0.98008084\n",
            " 0.03620729 0.03008196 0.9208975  0.04582075 0.98008084 0.03008196\n",
            " 0.9606986  0.9606986  0.98008084 0.98008084 0.93389726 0.03008196\n",
            " 0.98008084 0.9608389  0.03795947 0.95146865 0.19476202 0.97403514\n",
            " 0.03008196 0.03008196 0.95797086 0.98008084 0.96742904 0.03008196\n",
            " 0.9790822  0.97716796 0.98008084 0.98008084 0.96145505 0.972742\n",
            " 0.97203875 0.9698948  0.98008084 0.98008084 0.9790822  0.03008196\n",
            " 0.98008084 0.03008196 0.0737275  0.9585643  0.9758236  0.97697407\n",
            " 0.98008084 0.88192576 0.91490185 0.95723265 0.98008084 0.97397125\n",
            " 0.9790822  0.98008084 0.9698948  0.97697407 0.9776062  0.97867364\n",
            " 0.95723265 0.97867364 0.95723265 0.95723265 0.98008084 0.95514125\n",
            " 0.9702525  0.9418269  0.9678904  0.95072544 0.03008196 0.03008196\n",
            " 0.03008196 0.03008196 0.0394715  0.03008196 0.9758236 ]\n"
          ]
        }
      ],
      "source": [
        "dpred = RayDMatrix(train_x, train_y)\n",
        "\n",
        "bst = xgb.Booster(model_file=\"model.xgb\")                    # non-distributed XGBoost API instance\n",
        "\n",
        "pred_ray = predict(bst,\n",
        "                   dpred,\n",
        "                   ray_params = RayParams(num_actors=2)      # The data will be split across two actors. The result array will integrate this data in the correct order.\n",
        "                   )\n",
        "\n",
        "print(pred_ray)"
      ]
    },
    {
      "cell_type": "code",
      "source": [
        "# Convert model output to labels\n",
        "prediction = [int(i > 0.5) for i in pred_ray]\n",
        "print(prediction)"
      ],
      "metadata": {
        "id": "CtHSvCYRe-G0",
        "outputId": "9499d165-e854-4ea2-ab38-ba6a037a20ee",
        "colab": {
          "base_uri": "https://localhost:8080/"
        }
      },
      "execution_count": null,
      "outputs": [
        {
          "output_type": "stream",
          "name": "stdout",
          "text": [
            "[0, 0, 0, 0, 0, 0, 0, 0, 0, 0, 0, 0, 0, 0, 0, 0, 0, 0, 0, 1, 1, 1, 0, 0, 0, 0, 0, 0, 0, 0, 0, 0, 0, 0, 0, 0, 0, 1, 0, 0, 1, 0, 0, 0, 0, 0, 1, 0, 1, 1, 1, 1, 1, 0, 0, 1, 0, 0, 1, 1, 1, 1, 0, 1, 0, 0, 1, 1, 1, 1, 0, 1, 0, 0, 1, 0, 1, 0, 0, 1, 1, 1, 0, 0, 1, 0, 0, 0, 1, 1, 1, 0, 1, 1, 0, 0, 1, 1, 1, 0, 0, 1, 1, 1, 1, 0, 1, 1, 0, 1, 1, 1, 1, 1, 1, 1, 1, 0, 0, 0, 1, 0, 0, 1, 1, 1, 0, 0, 1, 0, 1, 0, 0, 1, 0, 1, 1, 1, 0, 1, 1, 0, 1, 1, 1, 1, 0, 1, 1, 1, 1, 1, 1, 1, 1, 1, 0, 1, 1, 1, 1, 0, 0, 1, 0, 1, 1, 0, 0, 1, 1, 0, 0, 1, 1, 1, 1, 0, 1, 1, 0, 0, 0, 1, 0, 1, 0, 1, 1, 1, 0, 1, 1, 0, 0, 1, 0, 0, 0, 0, 1, 0, 0, 0, 1, 0, 1, 0, 1, 1, 0, 1, 0, 0, 0, 0, 1, 1, 0, 0, 1, 1, 1, 0, 1, 1, 1, 1, 1, 0, 0, 1, 1, 0, 1, 1, 0, 0, 1, 0, 1, 1, 1, 1, 0, 1, 1, 1, 1, 1, 0, 1, 0, 0, 0, 0, 0, 0, 0, 0, 0, 0, 0, 0, 0, 0, 1, 1, 1, 1, 1, 1, 0, 1, 0, 1, 1, 0, 1, 1, 0, 1, 0, 0, 1, 1, 1, 1, 1, 1, 1, 1, 1, 1, 1, 1, 1, 1, 1, 1, 0, 1, 0, 1, 1, 1, 1, 1, 1, 1, 1, 1, 1, 1, 1, 1, 1, 0, 1, 1, 1, 0, 1, 0, 1, 1, 1, 1, 0, 0, 0, 1, 1, 1, 1, 0, 1, 0, 1, 0, 1, 1, 1, 0, 1, 1, 1, 1, 1, 1, 1, 0, 0, 0, 1, 1, 1, 1, 1, 1, 1, 1, 1, 1, 1, 0, 0, 1, 0, 0, 0, 1, 0, 0, 1, 1, 1, 1, 1, 0, 1, 1, 1, 1, 1, 0, 1, 1, 1, 0, 1, 1, 0, 0, 1, 1, 1, 1, 1, 1, 0, 1, 1, 1, 1, 1, 1, 1, 0, 1, 1, 1, 1, 1, 0, 1, 1, 0, 1, 1, 1, 1, 1, 1, 1, 1, 1, 1, 1, 1, 0, 1, 0, 0, 1, 0, 1, 1, 1, 1, 1, 0, 1, 1, 0, 1, 0, 1, 1, 0, 1, 0, 1, 1, 1, 1, 1, 1, 1, 1, 0, 0, 1, 1, 1, 1, 1, 1, 0, 1, 1, 1, 1, 1, 1, 1, 1, 1, 1, 0, 1, 1, 1, 1, 1, 1, 1, 0, 1, 0, 1, 1, 0, 1, 1, 1, 1, 1, 0, 0, 1, 0, 1, 0, 1, 1, 1, 1, 1, 0, 1, 1, 0, 1, 0, 1, 0, 0, 1, 1, 1, 0, 1, 1, 1, 1, 1, 1, 1, 1, 1, 1, 1, 0, 1, 0, 0, 1, 1, 1, 1, 1, 1, 1, 1, 1, 1, 1, 1, 1, 1, 1, 1, 1, 1, 1, 1, 1, 1, 1, 1, 1, 0, 0, 0, 0, 0, 0, 1]\n"
          ]
        }
      ]
    },
    {
      "cell_type": "code",
      "source": [
        "from sklearn.metrics import accuracy_score\n",
        "\n",
        "accuracy_score(prediction, train_y)"
      ],
      "metadata": {
        "id": "jt9n5T63fOjN",
        "outputId": "b9765096-2dcf-46be-ad74-28571d28b9e3",
        "colab": {
          "base_uri": "https://localhost:8080/"
        }
      },
      "execution_count": null,
      "outputs": [
        {
          "output_type": "execute_result",
          "data": {
            "text/plain": [
              "0.9947275922671354"
            ]
          },
          "metadata": {},
          "execution_count": 12
        }
      ]
    },
    {
      "cell_type": "markdown",
      "metadata": {
        "id": "9E6n1LzUsnld"
      },
      "source": [
        "## Hyperparameter Tuning with Ray Tune"
      ]
    },
    {
      "cell_type": "markdown",
      "source": [
        "By using tuning libraries such as **Ray Tune** we can try out combinations of hyperparameters. Using sophisticated search strategies, these parameters can be selected so that they are likely to lead to good results (avoiding an expensive exhaustive search).\n",
        "\n",
        "Also, trials that do not perform well can be preemptively stopped to reduce waste of computing resources. Ray Tune also takes care of training these runs in parallel, greatly increasing search speed."
      ],
      "metadata": {
        "id": "j8sWIT0QjJBL"
      }
    },
    {
      "cell_type": "markdown",
      "metadata": {
        "id": "Jzt3PmB94KyN"
      },
      "source": [
        "**Steps:**\n",
        "1. Put the non-distributed XGBoost training call into a function accepting parameter configurations (`train_breast_cancer_model()` in the example below)\n",
        "\n",
        "2. Define the parameter search space (`config` dictionary)\n",
        "\n",
        "3. Create `tune.Tuner()` object:\n",
        "    * pass training call function\n",
        "    * pass tuning configuration `tune.TuneConfig()`\n",
        "        * `num_samples`: number of different hyperparameter configurations from the search space\n",
        "        * `metric`: the metric to optimized\n",
        "        * `mode`: should either be min or max, depending on whether the metric is to be minimized or maximized\n",
        "    * pass parameter search space\n",
        "\n",
        "4. Call `tuner.fit()`"
      ]
    },
    {
      "cell_type": "code",
      "source": [
        "# Function for XGBoost training\n",
        "def train_breast_cancer_model(config):\n",
        "    # Load dataset\n",
        "    data, labels = load_breast_cancer(return_X_y=True)\n",
        "    # Split into train and test set\n",
        "    train_x, test_x, train_y, test_y = train_test_split(data, labels, test_size=0.25)\n",
        "\n",
        "    # Build input matrices for XGBoost\n",
        "    train_set = xgb.DMatrix(train_x, label=train_y)\n",
        "    test_set = xgb.DMatrix(test_x, label=test_y)\n",
        "\n",
        "    # Train the classifier\n",
        "    results = {}\n",
        "    xgb.train(\n",
        "        params=config,\n",
        "        dtrain=train_set,\n",
        "        evals=[(test_set, \"eval\")],\n",
        "        evals_result=results,\n",
        "        verbose_eval=False,\n",
        "    )\n",
        "    # Return prediction accuracy\n",
        "    accuracy = 1.0 - results[\"eval\"][\"error\"][-1]\n",
        "    raytrain.report({\"mean_accuracy\": accuracy, \"done\": True})        #  instead of returning the accuracy value, we report it back to Tune using session.report()\n",
        "\n",
        "\n",
        "# Define the parameter search space\n",
        "config = {\n",
        "    \"objective\": \"binary:logistic\",                            # tells XGBoost that we aim to train a logistic regression model for a binary classification task\n",
        "    \"eval_metric\": [\"logloss\", \"error\"],\n",
        "    \"max_depth\": tune.randint(1, 9),                           # hyperparameter    'tune.randint(min, max)' chooses a random integer value between min and max\n",
        "    \"min_child_weight\": tune.choice([1, 2, 3]),                # hyperparameter    'tune.choice([a, b, c])' chooses one of the items of the list at random\n",
        "    \"subsample\": tune.uniform(0.5, 1.0),                       # hyperparameter    'tune.uniform(min, max)' samples a floating point number between min and max\n",
        "    \"eta\": tune.loguniform(1e-4, 1e-1),                        # hyperparameter    'tune.loguniform(min, max, base=10)' samples a floating point number between min and max,\n",
        "                                                               #                    but applies a logarithmic transformation to these boundaries first\n",
        "    }\n",
        "\n",
        "tuner = tune.Tuner(\n",
        "    train_breast_cancer_model,\n",
        "    tune_config = tune.TuneConfig(num_samples=10,              # sample 10 different hyperparameter configurations from the search space\n",
        "                                  metric=\"mean_accuracy\",      # the metric to optimized\n",
        "                                  mode=\"max\"                   # the mode should either be min or max, depending on whether the metric is to be minimized or maximized\n",
        "                                  ),\n",
        "    param_space = config                                       # parameter search space\n",
        ")\n",
        "\n",
        "results = tuner.fit()"
      ],
      "metadata": {
        "id": "pgSlp5jN5e3O",
        "outputId": "13967a4e-fd6e-4d49-dec5-c95b0ac6df0c",
        "colab": {
          "base_uri": "https://localhost:8080/"
        }
      },
      "execution_count": null,
      "outputs": [
        {
          "output_type": "stream",
          "name": "stdout",
          "text": [
            "+----------------------------------------------------------------------------------+\n",
            "| Configuration for experiment     train_breast_cancer_model_2024-06-17_18-44-32   |\n",
            "+----------------------------------------------------------------------------------+\n",
            "| Search algorithm                 BasicVariantGenerator                           |\n",
            "| Scheduler                        FIFOScheduler                                   |\n",
            "| Number of trials                 10                                              |\n",
            "+----------------------------------------------------------------------------------+\n",
            "\n",
            "View detailed results here: /root/ray_results/train_breast_cancer_model_2024-06-17_18-44-32\n",
            "To visualize your results with TensorBoard, run: `tensorboard --logdir /tmp/ray/session_2024-06-17_18-43-14_331037_235/artifacts/2024-06-17_18-44-32/train_breast_cancer_model_2024-06-17_18-44-32/driver_artifacts`\n",
            "\n",
            "Trial status: 10 PENDING\n",
            "Current time: 2024-06-17 18:44:37. Total running time: 0s\n",
            "Logical resource usage: 0/2 CPUs, 0/0 GPUs\n",
            "+-----------------------------------------------------------------------------------------------------------------+\n",
            "| Trial name                              status       max_depth     min_child_weight     subsample           eta |\n",
            "+-----------------------------------------------------------------------------------------------------------------+\n",
            "| train_breast_cancer_model_a305f_00000   PENDING              4                    2      0.647329   0.000545568 |\n",
            "| train_breast_cancer_model_a305f_00001   PENDING              3                    1      0.926419   0.0873447   |\n",
            "| train_breast_cancer_model_a305f_00002   PENDING              3                    1      0.523508   0.00153692  |\n",
            "| train_breast_cancer_model_a305f_00003   PENDING              5                    2      0.808122   0.0107448   |\n",
            "| train_breast_cancer_model_a305f_00004   PENDING              6                    2      0.787391   0.00101264  |\n",
            "| train_breast_cancer_model_a305f_00005   PENDING              7                    1      0.568152   0.00451398  |\n",
            "| train_breast_cancer_model_a305f_00006   PENDING              7                    2      0.801478   0.00123656  |\n",
            "| train_breast_cancer_model_a305f_00007   PENDING              8                    3      0.570719   0.00861382  |\n",
            "| train_breast_cancer_model_a305f_00008   PENDING              5                    1      0.713258   0.00328068  |\n",
            "| train_breast_cancer_model_a305f_00009   PENDING              2                    3      0.954071   0.000202249 |\n",
            "+-----------------------------------------------------------------------------------------------------------------+\n",
            "\n",
            "Trial train_breast_cancer_model_a305f_00000 started with configuration:\n",
            "+-----------------------------------------------------------------------------+\n",
            "| Trial train_breast_cancer_model_a305f_00000 config                          |\n",
            "+-----------------------------------------------------------------------------+\n",
            "| eta                                                                 0.00055 |\n",
            "| eval_metric                                            ['logloss', 'error'] |\n",
            "| max_depth                                                                 4 |\n",
            "| min_child_weight                                                          2 |\n",
            "| objective                                                   binary:logistic |\n",
            "| subsample                                                           0.64733 |\n",
            "+-----------------------------------------------------------------------------+\n",
            "\n",
            "Trial train_breast_cancer_model_a305f_00000 completed after 1 iterations at 2024-06-17 18:44:44. Total running time: 7s\n",
            "+----------------------------------------------------------------+\n",
            "| Trial train_breast_cancer_model_a305f_00000 result             |\n",
            "+----------------------------------------------------------------+\n",
            "| checkpoint_dir_name                                            |\n",
            "| time_this_iter_s                                       0.09143 |\n",
            "| time_total_s                                           0.09143 |\n",
            "| training_iteration                                           1 |\n",
            "| mean_accuracy                                          0.61538 |\n",
            "+----------------------------------------------------------------+\n",
            "\n",
            "Trial train_breast_cancer_model_a305f_00001 started with configuration:\n",
            "+-----------------------------------------------------------------------------+\n",
            "| Trial train_breast_cancer_model_a305f_00001 config                          |\n",
            "+-----------------------------------------------------------------------------+\n",
            "| eta                                                                 0.08734 |\n",
            "| eval_metric                                            ['logloss', 'error'] |\n",
            "| max_depth                                                                 3 |\n",
            "| min_child_weight                                                          1 |\n",
            "| objective                                                   binary:logistic |\n",
            "| subsample                                                           0.92642 |\n",
            "+-----------------------------------------------------------------------------+\n",
            "\n",
            "Trial train_breast_cancer_model_a305f_00001 completed after 1 iterations at 2024-06-17 18:44:44. Total running time: 7s\n",
            "+----------------------------------------------------------------+\n",
            "| Trial train_breast_cancer_model_a305f_00001 result             |\n",
            "+----------------------------------------------------------------+\n",
            "| checkpoint_dir_name                                            |\n",
            "| time_this_iter_s                                       0.05108 |\n",
            "| time_total_s                                           0.05108 |\n",
            "| training_iteration                                           1 |\n",
            "| mean_accuracy                                          0.93706 |\n",
            "+----------------------------------------------------------------+\n",
            "\n",
            "Trial train_breast_cancer_model_a305f_00002 started with configuration:\n",
            "+-----------------------------------------------------------------------------+\n",
            "| Trial train_breast_cancer_model_a305f_00002 config                          |\n",
            "+-----------------------------------------------------------------------------+\n",
            "| eta                                                                 0.00154 |\n",
            "| eval_metric                                            ['logloss', 'error'] |\n",
            "| max_depth                                                                 3 |\n",
            "| min_child_weight                                                          1 |\n",
            "| objective                                                   binary:logistic |\n",
            "| subsample                                                           0.52351 |\n",
            "+-----------------------------------------------------------------------------+\n",
            "\n",
            "Trial train_breast_cancer_model_a305f_00002 completed after 1 iterations at 2024-06-17 18:44:49. Total running time: 13s\n",
            "+----------------------------------------------------------------+\n",
            "| Trial train_breast_cancer_model_a305f_00002 result             |\n",
            "+----------------------------------------------------------------+\n",
            "| checkpoint_dir_name                                            |\n",
            "| time_this_iter_s                                       0.04581 |\n",
            "| time_total_s                                           0.04581 |\n",
            "| training_iteration                                           1 |\n",
            "| mean_accuracy                                          0.63636 |\n",
            "+----------------------------------------------------------------+\n",
            "\n",
            "Trial train_breast_cancer_model_a305f_00003 started with configuration:\n",
            "+-----------------------------------------------------------------------------+\n",
            "| Trial train_breast_cancer_model_a305f_00003 config                          |\n",
            "+-----------------------------------------------------------------------------+\n",
            "| eta                                                                 0.01074 |\n",
            "| eval_metric                                            ['logloss', 'error'] |\n",
            "| max_depth                                                                 5 |\n",
            "| min_child_weight                                                          2 |\n",
            "| objective                                                   binary:logistic |\n",
            "| subsample                                                           0.80812 |\n",
            "+-----------------------------------------------------------------------------+\n",
            "\n",
            "Trial train_breast_cancer_model_a305f_00003 completed after 1 iterations at 2024-06-17 18:44:50. Total running time: 13s\n",
            "+----------------------------------------------------------------+\n",
            "| Trial train_breast_cancer_model_a305f_00003 result             |\n",
            "+----------------------------------------------------------------+\n",
            "| checkpoint_dir_name                                            |\n",
            "| time_this_iter_s                                       0.03123 |\n",
            "| time_total_s                                           0.03123 |\n",
            "| training_iteration                                           1 |\n",
            "| mean_accuracy                                          0.62937 |\n",
            "+----------------------------------------------------------------+\n",
            "\n",
            "Trial train_breast_cancer_model_a305f_00004 started with configuration:\n",
            "+-----------------------------------------------------------------------------+\n",
            "| Trial train_breast_cancer_model_a305f_00004 config                          |\n",
            "+-----------------------------------------------------------------------------+\n",
            "| eta                                                                 0.00101 |\n",
            "| eval_metric                                            ['logloss', 'error'] |\n",
            "| max_depth                                                                 6 |\n",
            "| min_child_weight                                                          2 |\n",
            "| objective                                                   binary:logistic |\n",
            "| subsample                                                           0.78739 |\n",
            "+-----------------------------------------------------------------------------+\n",
            "\n",
            "Trial train_breast_cancer_model_a305f_00004 completed after 1 iterations at 2024-06-17 18:44:54. Total running time: 17s\n",
            "+----------------------------------------------------------------+\n",
            "| Trial train_breast_cancer_model_a305f_00004 result             |\n",
            "+----------------------------------------------------------------+\n",
            "| checkpoint_dir_name                                            |\n",
            "| time_this_iter_s                                       0.05178 |\n",
            "| time_total_s                                           0.05178 |\n",
            "| training_iteration                                           1 |\n",
            "| mean_accuracy                                          0.64336 |\n",
            "+----------------------------------------------------------------+\n",
            "\n",
            "Trial train_breast_cancer_model_a305f_00005 started with configuration:\n",
            "+-----------------------------------------------------------------------------+\n",
            "| Trial train_breast_cancer_model_a305f_00005 config                          |\n",
            "+-----------------------------------------------------------------------------+\n",
            "| eta                                                                 0.00451 |\n",
            "| eval_metric                                            ['logloss', 'error'] |\n",
            "| max_depth                                                                 7 |\n",
            "| min_child_weight                                                          1 |\n",
            "| objective                                                   binary:logistic |\n",
            "| subsample                                                           0.56815 |\n",
            "+-----------------------------------------------------------------------------+\n",
            "\n",
            "Trial train_breast_cancer_model_a305f_00005 completed after 1 iterations at 2024-06-17 18:44:55. Total running time: 18s\n",
            "+----------------------------------------------------------------+\n",
            "| Trial train_breast_cancer_model_a305f_00005 result             |\n",
            "+----------------------------------------------------------------+\n",
            "| checkpoint_dir_name                                            |\n",
            "| time_this_iter_s                                       0.06024 |\n",
            "| time_total_s                                           0.06024 |\n",
            "| training_iteration                                           1 |\n",
            "| mean_accuracy                                          0.64336 |\n",
            "+----------------------------------------------------------------+\n",
            "\n",
            "Trial train_breast_cancer_model_a305f_00006 started with configuration:\n",
            "+-----------------------------------------------------------------------------+\n",
            "| Trial train_breast_cancer_model_a305f_00006 config                          |\n",
            "+-----------------------------------------------------------------------------+\n",
            "| eta                                                                 0.00124 |\n",
            "| eval_metric                                            ['logloss', 'error'] |\n",
            "| max_depth                                                                 7 |\n",
            "| min_child_weight                                                          2 |\n",
            "| objective                                                   binary:logistic |\n",
            "| subsample                                                           0.80148 |\n",
            "+-----------------------------------------------------------------------------+\n",
            "\n",
            "Trial train_breast_cancer_model_a305f_00006 completed after 1 iterations at 2024-06-17 18:45:02. Total running time: 26s\n",
            "+----------------------------------------------------------------+\n",
            "| Trial train_breast_cancer_model_a305f_00006 result             |\n",
            "+----------------------------------------------------------------+\n",
            "| checkpoint_dir_name                                            |\n",
            "| time_this_iter_s                                       0.05197 |\n",
            "| time_total_s                                           0.05197 |\n",
            "| training_iteration                                           1 |\n",
            "| mean_accuracy                                          0.68531 |\n",
            "+----------------------------------------------------------------+\n",
            "\n",
            "Trial train_breast_cancer_model_a305f_00007 started with configuration:\n",
            "+-----------------------------------------------------------------------------+\n",
            "| Trial train_breast_cancer_model_a305f_00007 config                          |\n",
            "+-----------------------------------------------------------------------------+\n",
            "| eta                                                                 0.00861 |\n",
            "| eval_metric                                            ['logloss', 'error'] |\n",
            "| max_depth                                                                 8 |\n",
            "| min_child_weight                                                          3 |\n",
            "| objective                                                   binary:logistic |\n",
            "| subsample                                                           0.57072 |\n",
            "+-----------------------------------------------------------------------------+\n",
            "\n",
            "Trial train_breast_cancer_model_a305f_00007 completed after 1 iterations at 2024-06-17 18:45:03. Total running time: 26s\n",
            "+----------------------------------------------------------------+\n",
            "| Trial train_breast_cancer_model_a305f_00007 result             |\n",
            "+----------------------------------------------------------------+\n",
            "| checkpoint_dir_name                                            |\n",
            "| time_this_iter_s                                       0.02933 |\n",
            "| time_total_s                                           0.02933 |\n",
            "| training_iteration                                           1 |\n",
            "| mean_accuracy                                          0.55245 |\n",
            "+----------------------------------------------------------------+\n",
            "\n",
            "Trial status: 8 TERMINATED | 2 PENDING\n",
            "Current time: 2024-06-17 18:45:07. Total running time: 30s\n",
            "Logical resource usage: 2.0/2 CPUs, 0/0 GPUs\n",
            "Current best trial: a305f_00001 with mean_accuracy=0.9370629370629371 and params={'objective': 'binary:logistic', 'eval_metric': ['logloss', 'error'], 'max_depth': 3, 'min_child_weight': 1, 'subsample': 0.9264192917869138, 'eta': 0.08734472028779346}\n",
            "+----------------------------------------------------------------------------------------------------------------------------------------------------------+\n",
            "| Trial name                              status         max_depth     min_child_weight     subsample           eta        acc     iter     total time (s) |\n",
            "+----------------------------------------------------------------------------------------------------------------------------------------------------------+\n",
            "| train_breast_cancer_model_a305f_00000   TERMINATED             4                    2      0.647329   0.000545568   0.615385        1          0.0914276 |\n",
            "| train_breast_cancer_model_a305f_00001   TERMINATED             3                    1      0.926419   0.0873447     0.937063        1          0.0510824 |\n",
            "| train_breast_cancer_model_a305f_00002   TERMINATED             3                    1      0.523508   0.00153692    0.636364        1          0.0458128 |\n",
            "| train_breast_cancer_model_a305f_00003   TERMINATED             5                    2      0.808122   0.0107448     0.629371        1          0.0312293 |\n",
            "| train_breast_cancer_model_a305f_00004   TERMINATED             6                    2      0.787391   0.00101264    0.643357        1          0.0517797 |\n",
            "| train_breast_cancer_model_a305f_00005   TERMINATED             7                    1      0.568152   0.00451398    0.643357        1          0.06024   |\n",
            "| train_breast_cancer_model_a305f_00006   TERMINATED             7                    2      0.801478   0.00123656    0.685315        1          0.0519667 |\n",
            "| train_breast_cancer_model_a305f_00007   TERMINATED             8                    3      0.570719   0.00861382    0.552448        1          0.0293281 |\n",
            "| train_breast_cancer_model_a305f_00008   PENDING                5                    1      0.713258   0.00328068                                         |\n",
            "| train_breast_cancer_model_a305f_00009   PENDING                2                    3      0.954071   0.000202249                                        |\n",
            "+----------------------------------------------------------------------------------------------------------------------------------------------------------+\n",
            "\n",
            "Trial train_breast_cancer_model_a305f_00009 started with configuration:\n",
            "+-----------------------------------------------------------------------------+\n",
            "| Trial train_breast_cancer_model_a305f_00009 config                          |\n",
            "+-----------------------------------------------------------------------------+\n",
            "| eta                                                                  0.0002 |\n",
            "| eval_metric                                            ['logloss', 'error'] |\n",
            "| max_depth                                                                 2 |\n",
            "| min_child_weight                                                          3 |\n",
            "| objective                                                   binary:logistic |\n",
            "| subsample                                                           0.95407 |\n",
            "+-----------------------------------------------------------------------------+\n",
            "\n",
            "Trial train_breast_cancer_model_a305f_00009 completed after 1 iterations at 2024-06-17 18:45:10. Total running time: 33s\n",
            "+----------------------------------------------------------------+\n",
            "| Trial train_breast_cancer_model_a305f_00009 result             |\n",
            "+----------------------------------------------------------------+\n",
            "| checkpoint_dir_name                                            |\n",
            "| time_this_iter_s                                        0.0463 |\n",
            "| time_total_s                                            0.0463 |\n",
            "| training_iteration                                           1 |\n",
            "| mean_accuracy                                          0.62238 |\n",
            "+----------------------------------------------------------------+\n",
            "\n",
            "Trial train_breast_cancer_model_a305f_00008 started with configuration:\n",
            "+-----------------------------------------------------------------------------+\n",
            "| Trial train_breast_cancer_model_a305f_00008 config                          |\n",
            "+-----------------------------------------------------------------------------+\n",
            "| eta                                                                 0.00328 |\n",
            "| eval_metric                                            ['logloss', 'error'] |\n",
            "| max_depth                                                                 5 |\n",
            "| min_child_weight                                                          1 |\n",
            "| objective                                                   binary:logistic |\n",
            "| subsample                                                           0.71326 |\n",
            "+-----------------------------------------------------------------------------+\n"
          ]
        },
        {
          "output_type": "stream",
          "name": "stderr",
          "text": [
            "2024-06-17 18:45:10,542\tINFO tune.py:1009 -- Wrote the latest version of all result files and experiment state to '/root/ray_results/train_breast_cancer_model_2024-06-17_18-44-32' in 0.0169s.\n"
          ]
        },
        {
          "output_type": "stream",
          "name": "stdout",
          "text": [
            "\n",
            "Trial train_breast_cancer_model_a305f_00008 completed after 1 iterations at 2024-06-17 18:45:10. Total running time: 33s\n",
            "+----------------------------------------------------------------+\n",
            "| Trial train_breast_cancer_model_a305f_00008 result             |\n",
            "+----------------------------------------------------------------+\n",
            "| checkpoint_dir_name                                            |\n",
            "| time_this_iter_s                                       0.06148 |\n",
            "| time_total_s                                           0.06148 |\n",
            "| training_iteration                                           1 |\n",
            "| mean_accuracy                                          0.62238 |\n",
            "+----------------------------------------------------------------+\n",
            "\n",
            "Trial status: 10 TERMINATED\n",
            "Current time: 2024-06-17 18:45:10. Total running time: 33s\n",
            "Logical resource usage: 1.0/2 CPUs, 0/0 GPUs\n",
            "Current best trial: a305f_00001 with mean_accuracy=0.9370629370629371 and params={'objective': 'binary:logistic', 'eval_metric': ['logloss', 'error'], 'max_depth': 3, 'min_child_weight': 1, 'subsample': 0.9264192917869138, 'eta': 0.08734472028779346}\n",
            "+----------------------------------------------------------------------------------------------------------------------------------------------------------+\n",
            "| Trial name                              status         max_depth     min_child_weight     subsample           eta        acc     iter     total time (s) |\n",
            "+----------------------------------------------------------------------------------------------------------------------------------------------------------+\n",
            "| train_breast_cancer_model_a305f_00000   TERMINATED             4                    2      0.647329   0.000545568   0.615385        1          0.0914276 |\n",
            "| train_breast_cancer_model_a305f_00001   TERMINATED             3                    1      0.926419   0.0873447     0.937063        1          0.0510824 |\n",
            "| train_breast_cancer_model_a305f_00002   TERMINATED             3                    1      0.523508   0.00153692    0.636364        1          0.0458128 |\n",
            "| train_breast_cancer_model_a305f_00003   TERMINATED             5                    2      0.808122   0.0107448     0.629371        1          0.0312293 |\n",
            "| train_breast_cancer_model_a305f_00004   TERMINATED             6                    2      0.787391   0.00101264    0.643357        1          0.0517797 |\n",
            "| train_breast_cancer_model_a305f_00005   TERMINATED             7                    1      0.568152   0.00451398    0.643357        1          0.06024   |\n",
            "| train_breast_cancer_model_a305f_00006   TERMINATED             7                    2      0.801478   0.00123656    0.685315        1          0.0519667 |\n",
            "| train_breast_cancer_model_a305f_00007   TERMINATED             8                    3      0.570719   0.00861382    0.552448        1          0.0293281 |\n",
            "| train_breast_cancer_model_a305f_00008   TERMINATED             5                    1      0.713258   0.00328068    0.622378        1          0.0614836 |\n",
            "| train_breast_cancer_model_a305f_00009   TERMINATED             2                    3      0.954071   0.000202249   0.622378        1          0.0463033 |\n",
            "+----------------------------------------------------------------------------------------------------------------------------------------------------------+\n",
            "\n"
          ]
        }
      ]
    },
    {
      "cell_type": "code",
      "source": [
        "# Best hyperparameters\n",
        "best_params = results.get_best_result().config\n",
        "best_params"
      ],
      "metadata": {
        "id": "4l4i2xW95_cv",
        "outputId": "03a6c110-03dc-4d37-acd9-e6b21f635164",
        "colab": {
          "base_uri": "https://localhost:8080/"
        }
      },
      "execution_count": null,
      "outputs": [
        {
          "output_type": "execute_result",
          "data": {
            "text/plain": [
              "{'objective': 'binary:logistic',\n",
              " 'eval_metric': ['logloss', 'error'],\n",
              " 'max_depth': 3,\n",
              " 'min_child_weight': 1,\n",
              " 'subsample': 0.9264192917869138,\n",
              " 'eta': 0.08734472028779346}"
            ]
          },
          "metadata": {},
          "execution_count": 14
        }
      ]
    },
    {
      "cell_type": "code",
      "source": [
        "# All trial results\n",
        "df = results.get_dataframe()\n",
        "df.head(2)"
      ],
      "metadata": {
        "id": "4kBwfVoR6w3h",
        "outputId": "e0a03671-60e3-47d9-af88-26eb92451e15",
        "colab": {
          "base_uri": "https://localhost:8080/",
          "height": 266
        }
      },
      "execution_count": null,
      "outputs": [
        {
          "output_type": "execute_result",
          "data": {
            "text/plain": [
              "   mean_accuracy  done   timestamp checkpoint_dir_name  training_iteration  \\\n",
              "0       0.615385  True  1718649884                None                   1   \n",
              "1       0.937063  True  1718649884                None                   1   \n",
              "\n",
              "      trial_id                 date  time_this_iter_s  time_total_s   pid  \\\n",
              "0  a305f_00000  2024-06-17_18-44-44          0.091428      0.091428  1377   \n",
              "1  a305f_00001  2024-06-17_18-44-44          0.051082      0.051082  1378   \n",
              "\n",
              "   ...      node_ip time_since_restore  iterations_since_restore  \\\n",
              "0  ...  172.28.0.12           0.091428                         1   \n",
              "1  ...  172.28.0.12           0.051082                         1   \n",
              "\n",
              "   config/objective config/eval_metric config/max_depth  \\\n",
              "0   binary:logistic   [logloss, error]                4   \n",
              "1   binary:logistic   [logloss, error]                3   \n",
              "\n",
              "   config/min_child_weight  config/subsample  config/eta       logdir  \n",
              "0                        2          0.647329    0.000546  a305f_00000  \n",
              "1                        1          0.926419    0.087345  a305f_00001  \n",
              "\n",
              "[2 rows x 21 columns]"
            ],
            "text/html": [
              "\n",
              "  <div id=\"df-ddac01f3-a1a8-4c6a-8a97-ae80137074b8\" class=\"colab-df-container\">\n",
              "    <div>\n",
              "<style scoped>\n",
              "    .dataframe tbody tr th:only-of-type {\n",
              "        vertical-align: middle;\n",
              "    }\n",
              "\n",
              "    .dataframe tbody tr th {\n",
              "        vertical-align: top;\n",
              "    }\n",
              "\n",
              "    .dataframe thead th {\n",
              "        text-align: right;\n",
              "    }\n",
              "</style>\n",
              "<table border=\"1\" class=\"dataframe\">\n",
              "  <thead>\n",
              "    <tr style=\"text-align: right;\">\n",
              "      <th></th>\n",
              "      <th>mean_accuracy</th>\n",
              "      <th>done</th>\n",
              "      <th>timestamp</th>\n",
              "      <th>checkpoint_dir_name</th>\n",
              "      <th>training_iteration</th>\n",
              "      <th>trial_id</th>\n",
              "      <th>date</th>\n",
              "      <th>time_this_iter_s</th>\n",
              "      <th>time_total_s</th>\n",
              "      <th>pid</th>\n",
              "      <th>...</th>\n",
              "      <th>node_ip</th>\n",
              "      <th>time_since_restore</th>\n",
              "      <th>iterations_since_restore</th>\n",
              "      <th>config/objective</th>\n",
              "      <th>config/eval_metric</th>\n",
              "      <th>config/max_depth</th>\n",
              "      <th>config/min_child_weight</th>\n",
              "      <th>config/subsample</th>\n",
              "      <th>config/eta</th>\n",
              "      <th>logdir</th>\n",
              "    </tr>\n",
              "  </thead>\n",
              "  <tbody>\n",
              "    <tr>\n",
              "      <th>0</th>\n",
              "      <td>0.615385</td>\n",
              "      <td>True</td>\n",
              "      <td>1718649884</td>\n",
              "      <td>None</td>\n",
              "      <td>1</td>\n",
              "      <td>a305f_00000</td>\n",
              "      <td>2024-06-17_18-44-44</td>\n",
              "      <td>0.091428</td>\n",
              "      <td>0.091428</td>\n",
              "      <td>1377</td>\n",
              "      <td>...</td>\n",
              "      <td>172.28.0.12</td>\n",
              "      <td>0.091428</td>\n",
              "      <td>1</td>\n",
              "      <td>binary:logistic</td>\n",
              "      <td>[logloss, error]</td>\n",
              "      <td>4</td>\n",
              "      <td>2</td>\n",
              "      <td>0.647329</td>\n",
              "      <td>0.000546</td>\n",
              "      <td>a305f_00000</td>\n",
              "    </tr>\n",
              "    <tr>\n",
              "      <th>1</th>\n",
              "      <td>0.937063</td>\n",
              "      <td>True</td>\n",
              "      <td>1718649884</td>\n",
              "      <td>None</td>\n",
              "      <td>1</td>\n",
              "      <td>a305f_00001</td>\n",
              "      <td>2024-06-17_18-44-44</td>\n",
              "      <td>0.051082</td>\n",
              "      <td>0.051082</td>\n",
              "      <td>1378</td>\n",
              "      <td>...</td>\n",
              "      <td>172.28.0.12</td>\n",
              "      <td>0.051082</td>\n",
              "      <td>1</td>\n",
              "      <td>binary:logistic</td>\n",
              "      <td>[logloss, error]</td>\n",
              "      <td>3</td>\n",
              "      <td>1</td>\n",
              "      <td>0.926419</td>\n",
              "      <td>0.087345</td>\n",
              "      <td>a305f_00001</td>\n",
              "    </tr>\n",
              "  </tbody>\n",
              "</table>\n",
              "<p>2 rows × 21 columns</p>\n",
              "</div>\n",
              "    <div class=\"colab-df-buttons\">\n",
              "\n",
              "  <div class=\"colab-df-container\">\n",
              "    <button class=\"colab-df-convert\" onclick=\"convertToInteractive('df-ddac01f3-a1a8-4c6a-8a97-ae80137074b8')\"\n",
              "            title=\"Convert this dataframe to an interactive table.\"\n",
              "            style=\"display:none;\">\n",
              "\n",
              "  <svg xmlns=\"http://www.w3.org/2000/svg\" height=\"24px\" viewBox=\"0 -960 960 960\">\n",
              "    <path d=\"M120-120v-720h720v720H120Zm60-500h600v-160H180v160Zm220 220h160v-160H400v160Zm0 220h160v-160H400v160ZM180-400h160v-160H180v160Zm440 0h160v-160H620v160ZM180-180h160v-160H180v160Zm440 0h160v-160H620v160Z\"/>\n",
              "  </svg>\n",
              "    </button>\n",
              "\n",
              "  <style>\n",
              "    .colab-df-container {\n",
              "      display:flex;\n",
              "      gap: 12px;\n",
              "    }\n",
              "\n",
              "    .colab-df-convert {\n",
              "      background-color: #E8F0FE;\n",
              "      border: none;\n",
              "      border-radius: 50%;\n",
              "      cursor: pointer;\n",
              "      display: none;\n",
              "      fill: #1967D2;\n",
              "      height: 32px;\n",
              "      padding: 0 0 0 0;\n",
              "      width: 32px;\n",
              "    }\n",
              "\n",
              "    .colab-df-convert:hover {\n",
              "      background-color: #E2EBFA;\n",
              "      box-shadow: 0px 1px 2px rgba(60, 64, 67, 0.3), 0px 1px 3px 1px rgba(60, 64, 67, 0.15);\n",
              "      fill: #174EA6;\n",
              "    }\n",
              "\n",
              "    .colab-df-buttons div {\n",
              "      margin-bottom: 4px;\n",
              "    }\n",
              "\n",
              "    [theme=dark] .colab-df-convert {\n",
              "      background-color: #3B4455;\n",
              "      fill: #D2E3FC;\n",
              "    }\n",
              "\n",
              "    [theme=dark] .colab-df-convert:hover {\n",
              "      background-color: #434B5C;\n",
              "      box-shadow: 0px 1px 3px 1px rgba(0, 0, 0, 0.15);\n",
              "      filter: drop-shadow(0px 1px 2px rgba(0, 0, 0, 0.3));\n",
              "      fill: #FFFFFF;\n",
              "    }\n",
              "  </style>\n",
              "\n",
              "    <script>\n",
              "      const buttonEl =\n",
              "        document.querySelector('#df-ddac01f3-a1a8-4c6a-8a97-ae80137074b8 button.colab-df-convert');\n",
              "      buttonEl.style.display =\n",
              "        google.colab.kernel.accessAllowed ? 'block' : 'none';\n",
              "\n",
              "      async function convertToInteractive(key) {\n",
              "        const element = document.querySelector('#df-ddac01f3-a1a8-4c6a-8a97-ae80137074b8');\n",
              "        const dataTable =\n",
              "          await google.colab.kernel.invokeFunction('convertToInteractive',\n",
              "                                                    [key], {});\n",
              "        if (!dataTable) return;\n",
              "\n",
              "        const docLinkHtml = 'Like what you see? Visit the ' +\n",
              "          '<a target=\"_blank\" href=https://colab.research.google.com/notebooks/data_table.ipynb>data table notebook</a>'\n",
              "          + ' to learn more about interactive tables.';\n",
              "        element.innerHTML = '';\n",
              "        dataTable['output_type'] = 'display_data';\n",
              "        await google.colab.output.renderOutput(dataTable, element);\n",
              "        const docLink = document.createElement('div');\n",
              "        docLink.innerHTML = docLinkHtml;\n",
              "        element.appendChild(docLink);\n",
              "      }\n",
              "    </script>\n",
              "  </div>\n",
              "\n",
              "\n",
              "<div id=\"df-136f79fb-46c5-4a43-aab4-59458c03f546\">\n",
              "  <button class=\"colab-df-quickchart\" onclick=\"quickchart('df-136f79fb-46c5-4a43-aab4-59458c03f546')\"\n",
              "            title=\"Suggest charts\"\n",
              "            style=\"display:none;\">\n",
              "\n",
              "<svg xmlns=\"http://www.w3.org/2000/svg\" height=\"24px\"viewBox=\"0 0 24 24\"\n",
              "     width=\"24px\">\n",
              "    <g>\n",
              "        <path d=\"M19 3H5c-1.1 0-2 .9-2 2v14c0 1.1.9 2 2 2h14c1.1 0 2-.9 2-2V5c0-1.1-.9-2-2-2zM9 17H7v-7h2v7zm4 0h-2V7h2v10zm4 0h-2v-4h2v4z\"/>\n",
              "    </g>\n",
              "</svg>\n",
              "  </button>\n",
              "\n",
              "<style>\n",
              "  .colab-df-quickchart {\n",
              "      --bg-color: #E8F0FE;\n",
              "      --fill-color: #1967D2;\n",
              "      --hover-bg-color: #E2EBFA;\n",
              "      --hover-fill-color: #174EA6;\n",
              "      --disabled-fill-color: #AAA;\n",
              "      --disabled-bg-color: #DDD;\n",
              "  }\n",
              "\n",
              "  [theme=dark] .colab-df-quickchart {\n",
              "      --bg-color: #3B4455;\n",
              "      --fill-color: #D2E3FC;\n",
              "      --hover-bg-color: #434B5C;\n",
              "      --hover-fill-color: #FFFFFF;\n",
              "      --disabled-bg-color: #3B4455;\n",
              "      --disabled-fill-color: #666;\n",
              "  }\n",
              "\n",
              "  .colab-df-quickchart {\n",
              "    background-color: var(--bg-color);\n",
              "    border: none;\n",
              "    border-radius: 50%;\n",
              "    cursor: pointer;\n",
              "    display: none;\n",
              "    fill: var(--fill-color);\n",
              "    height: 32px;\n",
              "    padding: 0;\n",
              "    width: 32px;\n",
              "  }\n",
              "\n",
              "  .colab-df-quickchart:hover {\n",
              "    background-color: var(--hover-bg-color);\n",
              "    box-shadow: 0 1px 2px rgba(60, 64, 67, 0.3), 0 1px 3px 1px rgba(60, 64, 67, 0.15);\n",
              "    fill: var(--button-hover-fill-color);\n",
              "  }\n",
              "\n",
              "  .colab-df-quickchart-complete:disabled,\n",
              "  .colab-df-quickchart-complete:disabled:hover {\n",
              "    background-color: var(--disabled-bg-color);\n",
              "    fill: var(--disabled-fill-color);\n",
              "    box-shadow: none;\n",
              "  }\n",
              "\n",
              "  .colab-df-spinner {\n",
              "    border: 2px solid var(--fill-color);\n",
              "    border-color: transparent;\n",
              "    border-bottom-color: var(--fill-color);\n",
              "    animation:\n",
              "      spin 1s steps(1) infinite;\n",
              "  }\n",
              "\n",
              "  @keyframes spin {\n",
              "    0% {\n",
              "      border-color: transparent;\n",
              "      border-bottom-color: var(--fill-color);\n",
              "      border-left-color: var(--fill-color);\n",
              "    }\n",
              "    20% {\n",
              "      border-color: transparent;\n",
              "      border-left-color: var(--fill-color);\n",
              "      border-top-color: var(--fill-color);\n",
              "    }\n",
              "    30% {\n",
              "      border-color: transparent;\n",
              "      border-left-color: var(--fill-color);\n",
              "      border-top-color: var(--fill-color);\n",
              "      border-right-color: var(--fill-color);\n",
              "    }\n",
              "    40% {\n",
              "      border-color: transparent;\n",
              "      border-right-color: var(--fill-color);\n",
              "      border-top-color: var(--fill-color);\n",
              "    }\n",
              "    60% {\n",
              "      border-color: transparent;\n",
              "      border-right-color: var(--fill-color);\n",
              "    }\n",
              "    80% {\n",
              "      border-color: transparent;\n",
              "      border-right-color: var(--fill-color);\n",
              "      border-bottom-color: var(--fill-color);\n",
              "    }\n",
              "    90% {\n",
              "      border-color: transparent;\n",
              "      border-bottom-color: var(--fill-color);\n",
              "    }\n",
              "  }\n",
              "</style>\n",
              "\n",
              "  <script>\n",
              "    async function quickchart(key) {\n",
              "      const quickchartButtonEl =\n",
              "        document.querySelector('#' + key + ' button');\n",
              "      quickchartButtonEl.disabled = true;  // To prevent multiple clicks.\n",
              "      quickchartButtonEl.classList.add('colab-df-spinner');\n",
              "      try {\n",
              "        const charts = await google.colab.kernel.invokeFunction(\n",
              "            'suggestCharts', [key], {});\n",
              "      } catch (error) {\n",
              "        console.error('Error during call to suggestCharts:', error);\n",
              "      }\n",
              "      quickchartButtonEl.classList.remove('colab-df-spinner');\n",
              "      quickchartButtonEl.classList.add('colab-df-quickchart-complete');\n",
              "    }\n",
              "    (() => {\n",
              "      let quickchartButtonEl =\n",
              "        document.querySelector('#df-136f79fb-46c5-4a43-aab4-59458c03f546 button');\n",
              "      quickchartButtonEl.style.display =\n",
              "        google.colab.kernel.accessAllowed ? 'block' : 'none';\n",
              "    })();\n",
              "  </script>\n",
              "</div>\n",
              "\n",
              "    </div>\n",
              "  </div>\n"
            ],
            "application/vnd.google.colaboratory.intrinsic+json": {
              "type": "dataframe",
              "variable_name": "df"
            }
          },
          "metadata": {},
          "execution_count": 15
        }
      ]
    }
  ],
  "metadata": {
    "colab": {
      "provenance": [],
      "include_colab_link": true
    },
    "kernelspec": {
      "display_name": "Python 3",
      "name": "python3"
    },
    "language_info": {
      "name": "python"
    }
  },
  "nbformat": 4,
  "nbformat_minor": 0
}